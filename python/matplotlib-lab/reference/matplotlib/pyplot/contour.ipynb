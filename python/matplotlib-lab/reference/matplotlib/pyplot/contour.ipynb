{
 "cells": [
  {
   "cell_type": "markdown",
   "source": [
    "# matplotlib.pyplot.contour\n",
    "https://matplotlib.org/stable/api/_as_gen/matplotlib.pyplot.contour.html"
   ],
   "metadata": {
    "collapsed": false
   },
   "id": "28d5f1a57a084e19"
  },
  {
   "cell_type": "markdown",
   "source": [
    "## matplotlib.pyplot.contour(*args, data=None, **kwargs)[source]\n",
    "\n",
    "Plot contour lines.\n",
    "\n",
    "Call signature:\n",
    "\n",
    "contour([X, Y,] Z, [levels], **kwargs)\n",
    "\n",
    "contour and contourf draw contour lines and filled contours, respectively. Except as noted, function signatures and return values are the same for both versions.\n",
    "\n",
    "Parameters:\n",
    "\n",
    "    X, Yarray-like, optional\n",
    "\n",
    "        The coordinates of the values in Z.\n",
    "\n",
    "        X and Y must both be 2D with the same shape as Z (e.g. created via numpy.meshgrid), or they must both be 1-D such that len(X) == N is the number of columns in Z and len(Y) == M is the number of rows in Z.\n",
    "\n",
    "        X and Y must both be ordered monotonically.\n",
    "\n",
    "        If not given, they are assumed to be integer indices, i.e. X = range(N), Y = range(M).\n",
    "    Z(M, N) array-like\n",
    "\n",
    "        The height values over which the contour is drawn. Color-mapping is controlled by cmap, norm, vmin, and vmax.\n",
    "    levelsint or array-like, optional\n",
    "\n",
    "        Determines the number and positions of the contour lines / regions.\n",
    "\n",
    "        If an int n, use MaxNLocator, which tries to automatically choose no more than n+1 \"nice\" contour levels between minimum and maximum numeric values of Z.\n",
    "\n",
    "        If array-like, draw contour lines at the specified levels. The values must be in increasing order.\n",
    "\n",
    "Returns:\n",
    "\n",
    "    QuadContourSet\n",
    "\n",
    "Other Parameters:\n",
    "\n",
    "    corner_maskbool, default: rcParams[\"contour.corner_mask\"] (default: True)\n",
    "\n",
    "        Enable/disable corner masking, which only has an effect if Z is a masked array. If False, any quad touching a masked point is masked out. If True, only the triangular corners of quads nearest those points are always masked out, other triangular corners comprising three unmasked points are contoured as usual.\n",
    "    colorscolor or list of color, optional\n",
    "\n",
    "        The colors of the levels, i.e. the lines for contour and the areas for contourf.\n",
    "\n",
    "        The sequence is cycled for the levels in ascending order. If the sequence is shorter than the number of levels, it's repeated.\n",
    "\n",
    "        As a shortcut, single color strings may be used in place of one-element lists, i.e. 'red' instead of ['red'] to color all levels with the same color. This shortcut does only work for color strings, not for other ways of specifying colors.\n",
    "\n",
    "        By default (value None), the colormap specified by cmap will be used.\n",
    "    alphafloat, default: 1\n",
    "\n",
    "        The alpha blending value, between 0 (transparent) and 1 (opaque).\n",
    "    cmapstr or Colormap, default: rcParams[\"image.cmap\"] (default: 'viridis')\n",
    "\n",
    "        The Colormap instance or registered colormap name used to map scalar data to colors.\n",
    "\n",
    "        This parameter is ignored if colors is set.\n",
    "    normstr or Normalize, optional\n",
    "\n",
    "        The normalization method used to scale scalar data to the [0, 1] range before mapping to colors using cmap. By default, a linear scaling is used, mapping the lowest value to 0 and the highest to 1.\n",
    "\n",
    "        If given, this can be one of the following:\n",
    "\n",
    "            An instance of Normalize or one of its subclasses (see Colormap normalization).\n",
    "\n",
    "            A scale name, i.e. one of \"linear\", \"log\", \"symlog\", \"logit\", etc. For a list of available scales, call matplotlib.scale.get_scale_names(). In that case, a suitable Normalize subclass is dynamically generated and instantiated.\n",
    "\n",
    "        This parameter is ignored if colors is set.\n",
    "    vmin, vmaxfloat, optional\n",
    "\n",
    "        When using scalar data and no explicit norm, vmin and vmax define the data range that the colormap covers. By default, the colormap covers the complete value range of the supplied data. It is an error to use vmin/vmax when a norm instance is given (but using a str norm name together with vmin/vmax is acceptable).\n",
    "\n",
    "        If vmin or vmax are not given, the default color scaling is based on levels.\n",
    "\n",
    "        This parameter is ignored if colors is set.\n",
    "    origin{None, 'upper', 'lower', 'image'}, default: None\n",
    "\n",
    "        Determines the orientation and exact position of Z by specifying the position of Z[0, 0]. This is only relevant, if X, Y are not given.\n",
    "\n",
    "            None: Z[0, 0] is at X=0, Y=0 in the lower left corner.\n",
    "\n",
    "            'lower': Z[0, 0] is at X=0.5, Y=0.5 in the lower left corner.\n",
    "\n",
    "            'upper': Z[0, 0] is at X=N+0.5, Y=0.5 in the upper left corner.\n",
    "\n",
    "            'image': Use the value from rcParams[\"image.origin\"] (default: 'upper').\n",
    "\n",
    "    extent(x0, x1, y0, y1), optional\n",
    "\n",
    "        If origin is not None, then extent is interpreted as in imshow: it gives the outer pixel boundaries. In this case, the position of Z[0, 0] is the center of the pixel, not a corner. If origin is None, then (x0, y0) is the position of Z[0, 0], and (x1, y1) is the position of Z[-1, -1].\n",
    "\n",
    "        This argument is ignored if X and Y are specified in the call to contour.\n",
    "    locatorticker.Locator subclass, optional\n",
    "\n",
    "        The locator is used to determine the contour levels if they are not given explicitly via levels. Defaults to MaxNLocator.\n",
    "    extend{'neither', 'both', 'min', 'max'}, default: 'neither'\n",
    "\n",
    "        Determines the contourf-coloring of values that are outside the levels range.\n",
    "\n",
    "        If 'neither', values outside the levels range are not colored. If 'min', 'max' or 'both', color the values below, above or below and above the levels range.\n",
    "\n",
    "        Values below min(levels) and above max(levels) are mapped to the under/over values of the Colormap. Note that most colormaps do not have dedicated colors for these by default, so that the over and under values are the edge values of the colormap. You may want to set these values explicitly using Colormap.set_under and Colormap.set_over.\n",
    "\n",
    "        Note\n",
    "\n",
    "        An existing QuadContourSet does not get notified if properties of its colormap are changed. Therefore, an explicit call QuadContourSet.changed() is needed after modifying the colormap. The explicit call can be left out, if a colorbar is assigned to the QuadContourSet because it internally calls QuadContourSet.changed().\n"
   ],
   "metadata": {
    "collapsed": false
   },
   "id": "6f62c9b05fd19168"
  },
  {
   "cell_type": "markdown",
   "source": [
    "## example"
   ],
   "metadata": {
    "collapsed": false
   },
   "id": "98193b74df0b56e2"
  },
  {
   "cell_type": "code",
   "execution_count": 10,
   "id": "initial_id",
   "metadata": {
    "collapsed": true,
    "ExecuteTime": {
     "end_time": "2024-06-21T13:09:28.771750800Z",
     "start_time": "2024-06-21T13:09:28.698393100Z"
    }
   },
   "outputs": [
    {
     "name": "stdout",
     "output_type": "stream",
     "text": [
      "[1 2 3 4 5 6 7 8 9]\n",
      "[[1]\n",
      " [2]\n",
      " [3]\n",
      " [4]\n",
      " [5]\n",
      " [6]\n",
      " [7]\n",
      " [8]\n",
      " [9]]\n",
      "[[ 1  2  3  4  5  6  7  8  9]\n",
      " [ 2  4  6  8 10 12 14 16 18]\n",
      " [ 3  6  9 12 15 18 21 24 27]\n",
      " [ 4  8 12 16 20 24 28 32 36]\n",
      " [ 5 10 15 20 25 30 35 40 45]\n",
      " [ 6 12 18 24 30 36 42 48 54]\n",
      " [ 7 14 21 28 35 42 49 56 63]\n",
      " [ 8 16 24 32 40 48 56 64 72]\n",
      " [ 9 18 27 36 45 54 63 72 81]]\n",
      "[285]\n",
      "[285]\n"
     ]
    },
    {
     "data": {
      "text/plain": "<Figure size 640x480 with 1 Axes>",
      "image/png": "[encoded data removed]"
     },
     "metadata": {},
     "output_type": "display_data"
    }
   ],
   "source": [
    "import matplotlib.pyplot as plt\n",
    "import numpy as np\n",
    "\n",
    "x = np.arange(1, 10)\n",
    "print(x)\n",
    "y = x.reshape(-1, 1)\n",
    "print(y)\n",
    "h = x * y\n",
    "print(h)\n",
    "print(np.dot(x, y))\n",
    "print(np.matmul(x, y))\n",
    "cs = plt.contourf(h, levels=[10, 20, 30, 40, 50],\n",
    "                   extend='both')\n",
    "cs.cmap.set_over('red')\n",
    "cs.cmap.set_under('blue')\n",
    "cs.changed()"
   ]
  },
  {
   "cell_type": "code",
   "execution_count": null,
   "outputs": [],
   "source": [],
   "metadata": {
    "collapsed": false
   },
   "id": "3131f7f4a147e116"
  }
 ],
 "metadata": {
  "kernelspec": {
   "display_name": "Python 3",
   "language": "python",
   "name": "python3"
  },
  "language_info": {
   "codemirror_mode": {
    "name": "ipython",
    "version": 2
   },
   "file_extension": ".py",
   "mimetype": "text/x-python",
   "name": "python",
   "nbconvert_exporter": "python",
   "pygments_lexer": "ipython2",
   "version": "2.7.6"
  }
 },
 "nbformat": 4,
 "nbformat_minor": 5
}
