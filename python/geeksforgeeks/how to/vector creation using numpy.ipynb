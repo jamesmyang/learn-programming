{
 "cells": [
  {
   "cell_type": "markdown",
   "source": [
    "# How to create a vector in Python using NumPy\n",
    "https://www.geeksforgeeks.org/how-to-create-a-vector-in-python-using-numpy/"
   ],
   "metadata": {
    "collapsed": false
   },
   "id": "6115623aaf4d8af0"
  },
  {
   "cell_type": "markdown",
   "source": [
    "## Vector\n",
    "Vector are built from components, which are ordinary numbers. We can think of a vector as a list of numbers, and vector algebra as operations performed on the numbers in the list. In other words vector is the numpy 1-D array."
   ],
   "metadata": {
    "collapsed": false
   },
   "id": "9dee582f69fdd16b"
  },
  {
   "cell_type": "code",
   "execution_count": 8,
   "id": "6fc63ad985fd46ab",
   "metadata": {
    "collapsed": true,
    "ExecuteTime": {
     "end_time": "2024-06-12T12:31:40.812399100Z",
     "start_time": "2024-06-12T12:31:40.796682900Z"
    }
   },
   "outputs": [
    {
     "name": "stdout",
     "output_type": "stream",
     "text": [
      "Horizontal Vector\n",
      "[1 2 3]\n",
      "(3,)\n",
      "----------------\n",
      "Vertical Vector\n",
      "[[10]\n",
      " [20]\n",
      " [30]]\n",
      "(3, 1)\n"
     ]
    }
   ],
   "source": [
    "# importing numpy \n",
    "import numpy as np\n",
    "\n",
    "# creating a 1-D list (Horizontal) \n",
    "list1 = [1, 2, 3]\n",
    "\n",
    "# creating a 1-D list (Vertical) \n",
    "list2 = [[10],\n",
    "         [20],\n",
    "         [30]]\n",
    "\n",
    "# creating a vector1 \n",
    "# vector as row \n",
    "vector1 = np.array(list1)\n",
    "\n",
    "# creating a vector 2 \n",
    "# vector as column \n",
    "vector2 = np.array(list2)\n",
    "\n",
    "\n",
    "# showing horizontal vector \n",
    "print(\"Horizontal Vector\")\n",
    "print(vector1)\n",
    "print(vector1.shape)\n",
    "\n",
    "print(\"----------------\")\n",
    "\n",
    "# showing vertical vector \n",
    "print(\"Vertical Vector\")\n",
    "print(vector2)\n",
    "print(vector2.shape)\n"
   ]
  },
  {
   "cell_type": "code",
   "execution_count": 9,
   "outputs": [
    {
     "name": "stdout",
     "output_type": "stream",
     "text": [
      "[140]\n"
     ]
    }
   ],
   "source": [
    "print(np.dot(vector1, vector2))"
   ],
   "metadata": {
    "collapsed": false,
    "ExecuteTime": {
     "end_time": "2024-06-12T12:31:42.796951100Z",
     "start_time": "2024-06-12T12:31:42.794095900Z"
    }
   },
   "id": "aacd15442883affd"
  },
  {
   "cell_type": "code",
   "execution_count": 10,
   "outputs": [
    {
     "ename": "ValueError",
     "evalue": "shapes (3,1) and (3,) not aligned: 1 (dim 1) != 3 (dim 0)",
     "output_type": "error",
     "traceback": [
      "\u001B[1;31m---------------------------------------------------------------------------\u001B[0m",
      "\u001B[1;31mValueError\u001B[0m                                Traceback (most recent call last)",
      "Cell \u001B[1;32mIn[10], line 1\u001B[0m\n\u001B[1;32m----> 1\u001B[0m \u001B[38;5;28mprint\u001B[39m(\u001B[43mnp\u001B[49m\u001B[38;5;241;43m.\u001B[39;49m\u001B[43mdot\u001B[49m\u001B[43m(\u001B[49m\u001B[43mvector2\u001B[49m\u001B[43m,\u001B[49m\u001B[43m \u001B[49m\u001B[43mvector1\u001B[49m\u001B[43m)\u001B[49m)\n",
      "\u001B[1;31mValueError\u001B[0m: shapes (3,1) and (3,) not aligned: 1 (dim 1) != 3 (dim 0)"
     ]
    }
   ],
   "source": [
    "print(np.dot(vector2, vector1))\n"
   ],
   "metadata": {
    "collapsed": false,
    "ExecuteTime": {
     "end_time": "2024-06-12T12:31:44.633931Z",
     "start_time": "2024-06-12T12:31:44.623913900Z"
    }
   },
   "id": "initial_id"
  },
  {
   "cell_type": "code",
   "execution_count": 12,
   "outputs": [
    {
     "data": {
      "text/plain": "array([1, 2, 3])"
     },
     "execution_count": 12,
     "metadata": {},
     "output_type": "execute_result"
    }
   ],
   "source": [
    "vector1.T"
   ],
   "metadata": {
    "collapsed": false,
    "ExecuteTime": {
     "end_time": "2024-06-12T12:32:53.733659500Z",
     "start_time": "2024-06-12T12:32:53.717817200Z"
    }
   },
   "id": "d5359a855656e5e9"
  },
  {
   "cell_type": "code",
   "execution_count": 13,
   "outputs": [
    {
     "data": {
      "text/plain": "array([[10, 20, 30]])"
     },
     "execution_count": 13,
     "metadata": {},
     "output_type": "execute_result"
    }
   ],
   "source": [
    "vector2.T"
   ],
   "metadata": {
    "collapsed": false,
    "ExecuteTime": {
     "end_time": "2024-06-12T12:33:30.094925Z",
     "start_time": "2024-06-12T12:33:30.075794700Z"
    }
   },
   "id": "723d41240ee67c45"
  },
  {
   "cell_type": "code",
   "execution_count": 4,
   "outputs": [
    {
     "name": "stdout",
     "output_type": "stream",
     "text": [
      "First Vector          : [5 6 9]\n",
      "Second Vector         : [1 2 3]\n",
      "Vector Addition       : [ 6  8 12]\n",
      "Vector Subtraction   : [4 4 6]\n",
      "Vector Multiplication : [ 5 12 27]\n",
      "Vector Division       : [5. 3. 3.]\n"
     ]
    }
   ],
   "source": [
    "\n",
    "\n",
    "# importing numpy \n",
    "import numpy as np\n",
    "\n",
    "# creating a 1-D list (Horizontal) \n",
    "list1 = [5, 6, 9]\n",
    "\n",
    "# creating a 1-D list (Horizontal) \n",
    "list2 = [1, 2, 3]\n",
    "\n",
    "# creating first vector \n",
    "vector1 = np.array(list1)\n",
    "\n",
    "# printing vector1 \n",
    "print(\"First Vector          : \" + str(vector1))\n",
    "\n",
    "# creating second vector \n",
    "vector2 = np.array(list2)\n",
    "\n",
    "# printing vector2 \n",
    "print(\"Second Vector         : \" + str(vector2))\n",
    "\n",
    "# adding both the vector \n",
    "# a + b = (a1 + b1, a2 + b2, a3 + b3) \n",
    "addition = vector1 + vector2\n",
    "\n",
    "# printing addition vector \n",
    "print(\"Vector Addition       : \" + str(addition))\n",
    "\n",
    "# subtracting both the vector \n",
    "# a - b = (a1 - b1, a2 - b2, a3 - b3) \n",
    "subtraction = vector1 - vector2\n",
    "\n",
    "# printing addition vector \n",
    "print(\"Vector Subtraction   : \" + str(subtraction))\n",
    "\n",
    "# multiplying  both the vector \n",
    "# a * b = (a1 * b1, a2 * b2, a3 * b3) \n",
    "multiplication = vector1 * vector2\n",
    "\n",
    "# printing multiplication vector \n",
    "print(\"Vector Multiplication : \" + str(multiplication))\n",
    "\n",
    "# dividing  both the vector \n",
    "# a / b = (a1 / b1, a2 / b2, a3 / b3) \n",
    "division = vector1 / vector2\n",
    "\n",
    "# printing division vector \n",
    "print(\"Vector Division       : \" + str(division)) \n"
   ],
   "metadata": {
    "collapsed": false,
    "ExecuteTime": {
     "end_time": "2024-06-12T12:23:50.348788400Z",
     "start_time": "2024-06-12T12:23:50.328640100Z"
    }
   },
   "id": "7914ebf1347c060e"
  },
  {
   "cell_type": "code",
   "execution_count": 5,
   "outputs": [
    {
     "name": "stdout",
     "output_type": "stream",
     "text": [
      "First Vector  : [5 6 9]\n",
      "Second Vector : [1 2 3]\n"
     ]
    }
   ],
   "source": [
    "# importing numpy \n",
    "import numpy as np\n",
    "\n",
    "# creating a 1-D list (Horizontal) \n",
    "list1 = [5, 6, 9]\n",
    "\n",
    "# creating a 1-D list (Horizontal) \n",
    "list2 = [1, 2, 3]\n",
    "\n",
    "# creating first vector  \n",
    "vector1 = np.array(list1)\n",
    "\n",
    "# printing vector1 \n",
    "print(\"First Vector  : \" + str(vector1))\n",
    "\n",
    "# creating second vector \n",
    "vector2 = np.array(list2)\n",
    "\n",
    "# printing vector2 \n",
    "print(\"Second Vector : \" + str(vector2))\n",
    "\n",
    "# getting dot product of both the vectors \n",
    "# a . b = (a1 * b1 + a2 * b2 + a3 * b3) \n",
    "# a . b = (a1b1 + a2b2 + a3b3) \n",
    "dot_product = vector1.dot(vector2) \n",
    "  "
   ],
   "metadata": {
    "collapsed": false,
    "ExecuteTime": {
     "end_time": "2024-06-12T12:24:16.880859800Z",
     "start_time": "2024-06-12T12:24:16.868395600Z"
    }
   },
   "id": "e33e337d6fb75825"
  },
  {
   "cell_type": "code",
   "execution_count": null,
   "outputs": [],
   "source": [],
   "metadata": {
    "collapsed": false
   },
   "id": "1b1b930bb71ace8f"
  }
 ],
 "metadata": {
  "kernelspec": {
   "display_name": "Python 3",
   "language": "python",
   "name": "python3"
  },
  "language_info": {
   "codemirror_mode": {
    "name": "ipython",
    "version": 2
   },
   "file_extension": ".py",
   "mimetype": "text/x-python",
   "name": "python",
   "nbconvert_exporter": "python",
   "pygments_lexer": "ipython2",
   "version": "2.7.6"
  }
 },
 "nbformat": 4,
 "nbformat_minor": 5
}
