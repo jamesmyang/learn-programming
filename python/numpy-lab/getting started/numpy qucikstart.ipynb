{
 "cells": [
  {
   "cell_type": "markdown",
   "source": [
    "# NumPy quickstart\n",
    "https://numpy.org/doc/stable/user/quickstart.html"
   ],
   "metadata": {
    "collapsed": false
   },
   "id": "e7cdb3f8e2d92058"
  },
  {
   "cell_type": "markdown",
   "source": [
    "## the basics"
   ],
   "metadata": {
    "collapsed": false
   },
   "id": "8eb0fbafdc5a889"
  },
  {
   "cell_type": "code",
   "execution_count": 1,
   "outputs": [],
   "source": [
    "import numpy as np"
   ],
   "metadata": {
    "collapsed": false,
    "ExecuteTime": {
     "end_time": "2024-06-07T20:00:06.123970200Z",
     "start_time": "2024-06-07T20:00:05.906182200Z"
    }
   },
   "id": "488acb10ef2fbd79"
  },
  {
   "cell_type": "markdown",
   "source": [
    "### basic operations"
   ],
   "metadata": {
    "collapsed": false
   },
   "id": "cfa2be009d62f64b"
  },
  {
   "cell_type": "markdown",
   "source": [
    "#### @ operator\n",
    "The matrix product can be performed using the @ operator (in python >=3.5) or the dot function \n",
    "\n",
    "matrix product"
   ],
   "metadata": {
    "collapsed": false
   },
   "id": "d8c6aebc5ab73ed7"
  },
  {
   "cell_type": "code",
   "execution_count": 6,
   "id": "initial_id",
   "metadata": {
    "collapsed": true,
    "ExecuteTime": {
     "end_time": "2024-06-07T20:05:16.660374500Z",
     "start_time": "2024-06-07T20:05:16.654307800Z"
    }
   },
   "outputs": [
    {
     "data": {
      "text/plain": "array([[5, 4],\n       [3, 4]])"
     },
     "execution_count": 6,
     "metadata": {},
     "output_type": "execute_result"
    }
   ],
   "source": [
    "A = np.array([[1, 1],\n",
    "              [0, 1]])\n",
    "\n",
    "B = np.array([[2, 0],\n",
    "              [3, 4]])\n",
    "\n",
    "A @ B     # matrix product"
   ]
  },
  {
   "cell_type": "markdown",
   "source": [
    "#### dot function"
   ],
   "metadata": {
    "collapsed": false
   },
   "id": "6e2b5a0d5a32bb25"
  },
  {
   "cell_type": "code",
   "execution_count": 8,
   "outputs": [
    {
     "data": {
      "text/plain": "array([[5, 4],\n       [3, 4]])"
     },
     "execution_count": 8,
     "metadata": {},
     "output_type": "execute_result"
    }
   ],
   "source": [
    "A = np.array([[1, 1],\n",
    "              [0, 1]])\n",
    "\n",
    "B = np.array([[2, 0],\n",
    "              [3, 4]])\n",
    "\n",
    "A.dot(B) # another matrix product"
   ],
   "metadata": {
    "collapsed": false,
    "ExecuteTime": {
     "end_time": "2024-06-07T20:05:47.325813500Z",
     "start_time": "2024-06-07T20:05:47.320941500Z"
    }
   },
   "id": "a63ba0d9d9b2fa9a"
  },
  {
   "cell_type": "code",
   "execution_count": 7,
   "outputs": [
    {
     "data": {
      "text/plain": "array([[5, 4],\n       [3, 4]])"
     },
     "execution_count": 7,
     "metadata": {},
     "output_type": "execute_result"
    }
   ],
   "source": [
    "A = np.array([[1, 1],\n",
    "              [0, 1]])\n",
    "\n",
    "B = np.array([[2, 0],\n",
    "              [3, 4]])\n",
    "\n",
    "np.dot(A, B) # another matrix product"
   ],
   "metadata": {
    "collapsed": false,
    "ExecuteTime": {
     "end_time": "2024-06-07T20:05:43.265820100Z",
     "start_time": "2024-06-07T20:05:43.248650900Z"
    }
   },
   "id": "3deb803aef8fd022"
  },
  {
   "cell_type": "code",
   "execution_count": null,
   "outputs": [],
   "source": [],
   "metadata": {
    "collapsed": false
   },
   "id": "1cfc12671a2a6f7a"
  }
 ],
 "metadata": {
  "kernelspec": {
   "display_name": "Python 3",
   "language": "python",
   "name": "python3"
  },
  "language_info": {
   "codemirror_mode": {
    "name": "ipython",
    "version": 2
   },
   "file_extension": ".py",
   "mimetype": "text/x-python",
   "name": "python",
   "nbconvert_exporter": "python",
   "pygments_lexer": "ipython2",
   "version": "2.7.6"
  }
 },
 "nbformat": 4,
 "nbformat_minor": 5
}
