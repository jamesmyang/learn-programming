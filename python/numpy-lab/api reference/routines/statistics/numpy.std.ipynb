{
 "cells": [
  {
   "cell_type": "markdown",
   "source": [
    "# numpy.std\n",
    "https://numpy.org/doc/stable/reference/generated/numpy.std.html\n",
    "\n",
    "numpy.std(a, axis=None, dtype=None, out=None, ddof=0, keepdims=<no value>, *, where=<no value>)"
   ],
   "metadata": {
    "collapsed": false
   },
   "id": "211ae635903f3d5c"
  },
  {
   "cell_type": "code",
   "execution_count": 3,
   "id": "initial_id",
   "metadata": {
    "collapsed": true,
    "ExecuteTime": {
     "end_time": "2024-06-07T15:12:38.911876100Z",
     "start_time": "2024-06-07T15:12:38.895022100Z"
    }
   },
   "outputs": [
    {
     "data": {
      "text/plain": "1.118033988749895"
     },
     "execution_count": 3,
     "metadata": {},
     "output_type": "execute_result"
    }
   ],
   "source": [
    "import numpy as np\n",
    "\n",
    "a = np.array([[1, 2], [3, 4]])\n",
    "# a = np.array([1, 2, 3, 4])\n",
    "np.std(a)\n",
    "# 1.1180339887498949 # may vary\n",
    "\n",
    "\n",
    "\n",
    "#np.std(a, axis=0)\n",
    "# array([1.,  1.])\n",
    "\n",
    "#np.std(a, axis=1)\n",
    "# array([0.5,  0.5])"
   ]
  },
  {
   "cell_type": "code",
   "execution_count": 7,
   "outputs": [
    {
     "data": {
      "text/plain": "0.45000005"
     },
     "execution_count": 7,
     "metadata": {},
     "output_type": "execute_result"
    }
   ],
   "source": [
    "a = np.zeros((2, 512*512), dtype=np.float32)\n",
    "\n",
    "a[0, :] = 1.0\n",
    "\n",
    "a[1, :] = 0.1\n",
    "\n",
    "np.std(a)"
   ],
   "metadata": {
    "collapsed": false,
    "ExecuteTime": {
     "end_time": "2024-06-07T15:15:02.286561400Z",
     "start_time": "2024-06-07T15:15:02.271179100Z"
    }
   },
   "id": "aa27ae9906cc362f"
  },
  {
   "cell_type": "code",
   "execution_count": 8,
   "outputs": [
    {
     "data": {
      "text/plain": "0.4499999992549418"
     },
     "execution_count": 8,
     "metadata": {},
     "output_type": "execute_result"
    }
   ],
   "source": [
    "np.std(a, dtype=np.float64)\n",
    "#0.44999999925494177 # may vary"
   ],
   "metadata": {
    "collapsed": false,
    "ExecuteTime": {
     "end_time": "2024-06-07T15:15:25.441578100Z",
     "start_time": "2024-06-07T15:15:25.436747Z"
    }
   },
   "id": "4c2b6c84bd129497"
  },
  {
   "cell_type": "code",
   "execution_count": 9,
   "outputs": [
    {
     "data": {
      "text/plain": "2.0"
     },
     "execution_count": 9,
     "metadata": {},
     "output_type": "execute_result"
    }
   ],
   "source": [
    "a = np.array([[14, 8, 11, 10], [7, 9, 10, 11], [10, 15, 5, 10]])\n",
    "\n",
    "np.std(a)\n",
    "#2.614064523559687 # may vary\n",
    "\n",
    "np.std(a, where=[[True], [True], [False]])\n",
    "#2.0"
   ],
   "metadata": {
    "collapsed": false,
    "ExecuteTime": {
     "end_time": "2024-06-07T15:16:07.491744500Z",
     "start_time": "2024-06-07T15:16:07.470960900Z"
    }
   },
   "id": "92c3598bcce31f2a"
  },
  {
   "cell_type": "code",
   "execution_count": null,
   "outputs": [],
   "source": [],
   "metadata": {
    "collapsed": false
   },
   "id": "a37b4b35e415db4b"
  }
 ],
 "metadata": {
  "kernelspec": {
   "display_name": "Python 3",
   "language": "python",
   "name": "python3"
  },
  "language_info": {
   "codemirror_mode": {
    "name": "ipython",
    "version": 2
   },
   "file_extension": ".py",
   "mimetype": "text/x-python",
   "name": "python",
   "nbconvert_exporter": "python",
   "pygments_lexer": "ipython2",
   "version": "2.7.6"
  }
 },
 "nbformat": 4,
 "nbformat_minor": 5
}
