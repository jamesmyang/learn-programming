{
 "cells": [
  {
   "cell_type": "markdown",
   "source": [
    "# numpy.mean\n",
    "https://numpy.org/doc/stable/reference/generated/numpy.mean.html\n",
    "\n",
    "numpy.mean(a, axis=None, dtype=None, out=None, keepdims=<no value>, *, where=<no value>)"
   ],
   "metadata": {
    "collapsed": false
   },
   "id": "90235673d373c18c"
  },
  {
   "cell_type": "code",
   "execution_count": 2,
   "id": "initial_id",
   "metadata": {
    "collapsed": true,
    "ExecuteTime": {
     "end_time": "2024-06-07T15:20:37.304597800Z",
     "start_time": "2024-06-07T15:20:37.108371100Z"
    }
   },
   "outputs": [
    {
     "data": {
      "text/plain": "2.5"
     },
     "execution_count": 2,
     "metadata": {},
     "output_type": "execute_result"
    }
   ],
   "source": [
    "import numpy as np\n",
    "\n",
    "a = np.array([[1, 2], [3, 4]])\n",
    "\n",
    "np.mean(a)"
   ]
  },
  {
   "cell_type": "code",
   "execution_count": 3,
   "outputs": [
    {
     "data": {
      "text/plain": "array([2., 3.])"
     },
     "execution_count": 3,
     "metadata": {},
     "output_type": "execute_result"
    }
   ],
   "source": [
    "np.mean(a, axis=0)"
   ],
   "metadata": {
    "collapsed": false,
    "ExecuteTime": {
     "end_time": "2024-06-07T15:22:04.654677200Z",
     "start_time": "2024-06-07T15:22:04.643876400Z"
    }
   },
   "id": "564cc41db98e24c5"
  },
  {
   "cell_type": "code",
   "execution_count": 4,
   "outputs": [
    {
     "data": {
      "text/plain": "array([1.5, 3.5])"
     },
     "execution_count": 4,
     "metadata": {},
     "output_type": "execute_result"
    }
   ],
   "source": [
    "np.mean(a, axis=1)"
   ],
   "metadata": {
    "collapsed": false,
    "ExecuteTime": {
     "end_time": "2024-06-07T15:22:11.282160900Z",
     "start_time": "2024-06-07T15:22:11.273899200Z"
    }
   },
   "id": "a327ad69d5949c1c"
  },
  {
   "cell_type": "code",
   "execution_count": 9,
   "outputs": [
    {
     "data": {
      "text/plain": "0.54999924"
     },
     "execution_count": 9,
     "metadata": {},
     "output_type": "execute_result"
    }
   ],
   "source": [
    "a = np.zeros((2, 512*512), dtype=np.float32)\n",
    "a[0, :] = 1.0\n",
    "a[1, :] = 0.1\n",
    "np.mean(a)"
   ],
   "metadata": {
    "collapsed": false,
    "ExecuteTime": {
     "end_time": "2024-06-07T15:23:54.142335600Z",
     "start_time": "2024-06-07T15:23:54.137679100Z"
    }
   },
   "id": "2e2b4634374d7af9"
  },
  {
   "cell_type": "code",
   "execution_count": 10,
   "outputs": [
    {
     "data": {
      "text/plain": "0.5500000007450581"
     },
     "execution_count": 10,
     "metadata": {},
     "output_type": "execute_result"
    }
   ],
   "source": [
    "np.mean(a, dtype=np.float64)"
   ],
   "metadata": {
    "collapsed": false,
    "ExecuteTime": {
     "end_time": "2024-06-07T15:24:04.004302500Z",
     "start_time": "2024-06-07T15:24:03.995534900Z"
    }
   },
   "id": "71d774a4410fed0c"
  },
  {
   "cell_type": "code",
   "execution_count": 13,
   "outputs": [
    {
     "data": {
      "text/plain": "12.0"
     },
     "execution_count": 13,
     "metadata": {},
     "output_type": "execute_result"
    }
   ],
   "source": [
    "a = np.array([[5, 9, 13], [14, 10, 12], [11, 15, 19]])\n",
    "#a = np.array([5, 9, 13, 14, 10, 12, 11, 15, 19])\n",
    "np.mean(a)"
   ],
   "metadata": {
    "collapsed": false,
    "ExecuteTime": {
     "end_time": "2024-06-07T15:24:50.387639Z",
     "start_time": "2024-06-07T15:24:50.374848700Z"
    }
   },
   "id": "14f46510b44976bd"
  },
  {
   "cell_type": "code",
   "execution_count": 14,
   "outputs": [
    {
     "data": {
      "text/plain": "9.0"
     },
     "execution_count": 14,
     "metadata": {},
     "output_type": "execute_result"
    }
   ],
   "source": [
    "np.mean(a, where=[[True], [False], [False]])"
   ],
   "metadata": {
    "collapsed": false,
    "ExecuteTime": {
     "end_time": "2024-06-07T15:25:03.727407600Z",
     "start_time": "2024-06-07T15:25:03.721138700Z"
    }
   },
   "id": "987dd28d9d05bb62"
  },
  {
   "cell_type": "code",
   "execution_count": 16,
   "outputs": [
    {
     "data": {
      "text/plain": "9.0"
     },
     "execution_count": 16,
     "metadata": {},
     "output_type": "execute_result"
    }
   ],
   "source": [
    "a = np.array([[5, 9, 13]])\n",
    "np.mean(a)"
   ],
   "metadata": {
    "collapsed": false,
    "ExecuteTime": {
     "end_time": "2024-06-07T15:25:34.304521800Z",
     "start_time": "2024-06-07T15:25:34.287664900Z"
    }
   },
   "id": "2d90055e95510175"
  },
  {
   "cell_type": "code",
   "execution_count": null,
   "outputs": [],
   "source": [],
   "metadata": {
    "collapsed": false
   },
   "id": "643fd27e4c85009"
  }
 ],
 "metadata": {
  "kernelspec": {
   "display_name": "Python 3",
   "language": "python",
   "name": "python3"
  },
  "language_info": {
   "codemirror_mode": {
    "name": "ipython",
    "version": 2
   },
   "file_extension": ".py",
   "mimetype": "text/x-python",
   "name": "python",
   "nbconvert_exporter": "python",
   "pygments_lexer": "ipython2",
   "version": "2.7.6"
  }
 },
 "nbformat": 4,
 "nbformat_minor": 5
}
