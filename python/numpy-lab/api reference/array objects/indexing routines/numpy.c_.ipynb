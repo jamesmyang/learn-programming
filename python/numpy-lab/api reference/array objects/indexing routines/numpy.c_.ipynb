{
 "cells": [
  {
   "cell_type": "markdown",
   "source": [
    "# numpy.c_\n",
    "https://numpy.org/doc/stable/reference/generated/numpy.c_.html\n",
    "\n",
    "numpy.c_ = <numpy.lib.index_tricks.CClass object>\n",
    "np.r_['-1,2,0', index expression]"
   ],
   "metadata": {
    "collapsed": false
   },
   "id": "9648de6d193e8c75"
  },
  {
   "cell_type": "code",
   "execution_count": 1,
   "id": "initial_id",
   "metadata": {
    "collapsed": true,
    "ExecuteTime": {
     "end_time": "2024-06-07T19:21:02.677981700Z",
     "start_time": "2024-06-07T19:21:02.471220300Z"
    }
   },
   "outputs": [
    {
     "data": {
      "text/plain": "array([[1, 4],\n       [2, 5],\n       [3, 6]])"
     },
     "execution_count": 1,
     "metadata": {},
     "output_type": "execute_result"
    }
   ],
   "source": [
    "import numpy as np\n",
    "\n",
    "np.c_[np.array([1,2,3]), np.array([4,5,6])]"
   ]
  },
  {
   "cell_type": "code",
   "execution_count": null,
   "outputs": [],
   "source": [],
   "metadata": {
    "collapsed": false
   },
   "id": "70f7d43f4c03fe18"
  }
 ],
 "metadata": {
  "kernelspec": {
   "display_name": "Python 3",
   "language": "python",
   "name": "python3"
  },
  "language_info": {
   "codemirror_mode": {
    "name": "ipython",
    "version": 2
   },
   "file_extension": ".py",
   "mimetype": "text/x-python",
   "name": "python",
   "nbconvert_exporter": "python",
   "pygments_lexer": "ipython2",
   "version": "2.7.6"
  }
 },
 "nbformat": 4,
 "nbformat_minor": 5
}
