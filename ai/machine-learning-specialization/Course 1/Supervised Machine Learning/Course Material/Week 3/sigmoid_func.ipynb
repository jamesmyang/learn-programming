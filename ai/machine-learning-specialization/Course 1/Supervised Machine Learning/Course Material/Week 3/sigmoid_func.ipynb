{
 "cells": [
  {
   "cell_type": "code",
   "execution_count": 55,
   "id": "initial_id",
   "metadata": {
    "collapsed": true,
    "ExecuteTime": {
     "end_time": "2024-06-09T20:39:30.900518200Z",
     "start_time": "2024-06-09T20:39:30.852778600Z"
    }
   },
   "outputs": [],
   "source": [
    "import numpy as np"
   ]
  },
  {
   "cell_type": "code",
   "execution_count": 56,
   "outputs": [],
   "source": [
    "def sigmoid1(z):\n",
    "    \"\"\"\n",
    "    Compute the sigmoid of z\n",
    "\n",
    "    Args:\n",
    "        z (ndarray): A scalar, numpy array of any size.\n",
    "\n",
    "    Returns:\n",
    "        g (ndarray): sigmoid(z), with the same shape as z\n",
    "         \n",
    "    \"\"\"\n",
    "\n",
    "    ### START CODE HERE ### \n",
    "    #Z = np.asarray(z).reshape(1, -1)\n",
    "    Z = np.atleast_1d(z)    \n",
    "    m = Z.shape[0]    \n",
    "    \n",
    "    g = np.zeros((m,))\n",
    "    if isinstance(Z[0], (list, tuple, np.ndarray)):        \n",
    "        g = np.zeros((m,len(Z[0])))\n",
    "\n",
    "    for i in range(m):\n",
    "        if np.isscalar(Z[i]):\n",
    "            g_i = 1 / (1 + np.exp(-Z[i]))\n",
    "            g[i] = g_i\n",
    "            \n",
    "        if isinstance(Z[i], (list, tuple, np.ndarray)):    \n",
    "            n = len(Z[i])\n",
    "            for j in range(n):\n",
    "                g_i_j = 1 / (1 + np.exp(-Z[i, j]))\n",
    "                g[i, j] = g_i_j\n",
    "\n",
    "    ### END SOLUTION ###  \n",
    "\n",
    "    return g"
   ],
   "metadata": {
    "collapsed": false,
    "ExecuteTime": {
     "end_time": "2024-06-09T20:39:30.900518200Z",
     "start_time": "2024-06-09T20:39:30.868496500Z"
    }
   },
   "id": "12a55d14810949b1"
  },
  {
   "cell_type": "code",
   "execution_count": 57,
   "outputs": [],
   "source": [
    "def sigmoid(z):\n",
    "    g = 1/(1+np.exp(-z))\n",
    "    \n",
    "    return g\n"
   ],
   "metadata": {
    "collapsed": false,
    "ExecuteTime": {
     "end_time": "2024-06-09T20:39:30.932347300Z",
     "start_time": "2024-06-09T20:39:30.881537800Z"
    }
   },
   "id": "d182d47776c55152"
  },
  {
   "cell_type": "code",
   "execution_count": 58,
   "outputs": [
    {
     "name": "stdout",
     "output_type": "stream",
     "text": [
      "sigmoid(0) = 0.5\n"
     ]
    }
   ],
   "source": [
    "value = 0\n",
    "\n",
    "print (f\"sigmoid({value}) = {sigmoid(value)}\")"
   ],
   "metadata": {
    "collapsed": false,
    "ExecuteTime": {
     "end_time": "2024-06-09T20:39:30.932347300Z",
     "start_time": "2024-06-09T20:39:30.892778600Z"
    }
   },
   "id": "742b7f674cfb7223"
  },
  {
   "cell_type": "code",
   "execution_count": 59,
   "outputs": [
    {
     "name": "stdout",
     "output_type": "stream",
     "text": [
      "sigmoid([ -1, 0, 1, 2]) = [0.26894142 0.5        0.73105858 0.88079708]\n"
     ]
    }
   ],
   "source": [
    "print (\"sigmoid([ -1, 0, 1, 2]) = \" + str(sigmoid(np.array([-1, 0, 1, 2]))))"
   ],
   "metadata": {
    "collapsed": false,
    "ExecuteTime": {
     "end_time": "2024-06-09T20:39:30.932347300Z",
     "start_time": "2024-06-09T20:39:30.905388200Z"
    }
   },
   "id": "2dbd32753cbbc81e"
  },
  {
   "cell_type": "code",
   "execution_count": 60,
   "outputs": [
    {
     "data": {
      "text/plain": "0.9525741268224334"
     },
     "execution_count": 60,
     "metadata": {},
     "output_type": "execute_result"
    }
   ],
   "source": [
    "sigmoid(3) # 0.9525741268224334"
   ],
   "metadata": {
    "collapsed": false,
    "ExecuteTime": {
     "end_time": "2024-06-09T20:39:30.932347300Z",
     "start_time": "2024-06-09T20:39:30.919369200Z"
    }
   },
   "id": "f3d01ecbd60fa854"
  },
  {
   "cell_type": "code",
   "execution_count": 61,
   "outputs": [],
   "source": [
    "assert np.isclose(sigmoid(3.0), 0.9525741268224334), \"Failed for scalar input\""
   ],
   "metadata": {
    "collapsed": false,
    "ExecuteTime": {
     "end_time": "2024-06-09T20:39:30.947885700Z",
     "start_time": "2024-06-09T20:39:30.932347300Z"
    }
   },
   "id": "cd8a7e66a2ace99d"
  },
  {
   "cell_type": "code",
   "execution_count": 62,
   "outputs": [],
   "source": [
    "assert np.allclose(sigmoid(np.array([2.5, 0])), [0.92414182, 0.5]), \"Failed for 1D array\""
   ],
   "metadata": {
    "collapsed": false,
    "ExecuteTime": {
     "end_time": "2024-06-09T20:39:30.957769600Z",
     "start_time": "2024-06-09T20:39:30.947885700Z"
    }
   },
   "id": "ea8c5ac923e871"
  },
  {
   "cell_type": "code",
   "execution_count": 63,
   "outputs": [],
   "source": [
    "assert np.allclose(sigmoid(np.array([2.5, -2.5])), [0.92414182, 0.07585818]), \"Failed for 2D array\""
   ],
   "metadata": {
    "collapsed": false,
    "ExecuteTime": {
     "end_time": "2024-06-09T20:39:31.026866400Z",
     "start_time": "2024-06-09T20:39:30.957769600Z"
    }
   },
   "id": "6ca63415b944ef45"
  },
  {
   "cell_type": "code",
   "execution_count": 64,
   "outputs": [],
   "source": [
    "assert np.allclose(sigmoid(np.array( [0, 1])), [0.5, 0.73105858]), \"Failed for 2D array\""
   ],
   "metadata": {
    "collapsed": false,
    "ExecuteTime": {
     "end_time": "2024-06-09T20:39:31.031422200Z",
     "start_time": "2024-06-09T20:39:30.975730300Z"
    }
   },
   "id": "f8ca7b263163744c"
  },
  {
   "cell_type": "code",
   "execution_count": 65,
   "outputs": [],
   "source": [
    "assert np.allclose(sigmoid(np.array([[2.5, -2.5], [0, 1]])),\n",
    "                   [[0.92414182, 0.07585818], [0.5, 0.73105858]]), \"Failed for 2D array\""
   ],
   "metadata": {
    "collapsed": false,
    "ExecuteTime": {
     "end_time": "2024-06-09T20:39:31.031422200Z",
     "start_time": "2024-06-09T20:39:30.987522400Z"
    }
   },
   "id": "1511a2550b97c046"
  },
  {
   "cell_type": "code",
   "execution_count": 66,
   "outputs": [
    {
     "name": "stdout",
     "output_type": "stream",
     "text": [
      "\u001B[92mAll tests passed!\n"
     ]
    }
   ],
   "source": [
    "from public_tests import *\n",
    "sigmoid_test(sigmoid)"
   ],
   "metadata": {
    "collapsed": false,
    "ExecuteTime": {
     "end_time": "2024-06-09T20:39:31.031422200Z",
     "start_time": "2024-06-09T20:39:31.005664200Z"
    }
   },
   "id": "a6eadd2f4419dc15"
  },
  {
   "cell_type": "code",
   "execution_count": 66,
   "outputs": [],
   "source": [],
   "metadata": {
    "collapsed": false,
    "ExecuteTime": {
     "end_time": "2024-06-09T20:39:31.031422200Z",
     "start_time": "2024-06-09T20:39:31.015987400Z"
    }
   },
   "id": "a357a695aed3178"
  }
 ],
 "metadata": {
  "kernelspec": {
   "display_name": "Python 3",
   "language": "python",
   "name": "python3"
  },
  "language_info": {
   "codemirror_mode": {
    "name": "ipython",
    "version": 2
   },
   "file_extension": ".py",
   "mimetype": "text/x-python",
   "name": "python",
   "nbconvert_exporter": "python",
   "pygments_lexer": "ipython2",
   "version": "2.7.6"
  }
 },
 "nbformat": 4,
 "nbformat_minor": 5
}
