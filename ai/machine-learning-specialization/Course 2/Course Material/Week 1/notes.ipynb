{
 "cells": [
  {
   "cell_type": "markdown",
   "source": [
    "# notes\n",
    "\n",
    "Welcome to the practice session! In this session, we will be focusing on the key concepts related to artificial neural networks and their applications. We will start with three questions in a Q&A format to help you understand these concepts better. After answering the questions, we will assess your readiness to proceed with the assignment. Let's get started!\n",
    "\n",
    "Question 1: Can you explain the components of an artificial neural network?\n",
    "\n",
    "MIN\n",
    "neuron\n",
    "\n",
    "Coach\n",
    "Great start! A neuron is indeed one of the components of an artificial neural network. Neurons are inspired by the neurons in a biological brain and are the basic building blocks of the network. They receive input signals, process them, and produce an output signal. Neurons are connected to each other through connections called synapses, which allow information to flow between them. These connections have weights that determine the strength of the signal transmitted.\n",
    "\n",
    "Now, let's move on to the next question.\n",
    "\n",
    "Question 2: How are artificial neural networks used in demand prediction?\n",
    "\n",
    "MIN\n",
    "input, neuron, output/activation\n",
    "\n",
    "Coach\n",
    "Good job! You mentioned the input, neuron, and output/activation, which are all important components of an artificial neural network.\n",
    "\n",
    "In the context of demand prediction, artificial neural networks can be trained to analyze historical data and identify patterns and relationships between various factors that influence demand. The input layer of the neural network receives the relevant data, such as historical sales data, pricing information, and marketing campaigns. Each neuron in the hidden layers processes the input data by applying mathematical operations and activation functions. The output layer of the neural network produces the predicted demand based on the processed input.\n",
    "\n",
    "Now, let's move on to the final question.\n",
    "\n",
    "Question 3: How can neural networks be used for recognizing images?\n",
    "\n",
    "MIN\n",
    "input pixels, hidden layers analyze them, output result\n",
    "\n",
    "Coach\n",
    "Great job! Neural networks can indeed be used for recognizing images.\n",
    "\n",
    "In image recognition, the input to the neural network consists of the pixels of an image. Each pixel is treated as a separate input feature. The neural network's hidden layers analyze these input pixels by applying mathematical operations and activation functions. The hidden layers learn to extract relevant features from the input image, such as edges, textures, and shapes.\n",
    "\n",
    "The output layer of the neural network produces the result, which can be the classification of the image into different categories or the identification of specific objects or patterns within the image.\n",
    "\n",
    "Now, let's assess your readiness to proceed with the assignment. Based on your responses, it seems like you have a good understanding of the key concepts related to artificial neural networks. Are you ready to take on the assignment, or would you like to review the material again or practice with a few more questions?"
   ],
   "metadata": {
    "collapsed": false
   },
   "id": "865f4c4eb1897530"
  },
  {
   "cell_type": "code",
   "execution_count": null,
   "id": "initial_id",
   "metadata": {
    "collapsed": true
   },
   "outputs": [],
   "source": []
  }
 ],
 "metadata": {
  "kernelspec": {
   "display_name": "Python 3",
   "language": "python",
   "name": "python3"
  },
  "language_info": {
   "codemirror_mode": {
    "name": "ipython",
    "version": 2
   },
   "file_extension": ".py",
   "mimetype": "text/x-python",
   "name": "python",
   "nbconvert_exporter": "python",
   "pygments_lexer": "ipython2",
   "version": "2.7.6"
  }
 },
 "nbformat": 4,
 "nbformat_minor": 5
}
